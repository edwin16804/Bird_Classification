{
 "cells": [
  {
   "cell_type": "code",
   "execution_count": 1,
   "id": "0febc498",
   "metadata": {},
   "outputs": [],
   "source": [
    "import numpy as np\n",
    "import pandas as pd"
   ]
  },
  {
   "cell_type": "code",
   "execution_count": 20,
   "id": "fa5dc72c",
   "metadata": {},
   "outputs": [
    {
     "data": {
      "text/html": [
       "<div>\n",
       "<style scoped>\n",
       "    .dataframe tbody tr th:only-of-type {\n",
       "        vertical-align: middle;\n",
       "    }\n",
       "\n",
       "    .dataframe tbody tr th {\n",
       "        vertical-align: top;\n",
       "    }\n",
       "\n",
       "    .dataframe thead th {\n",
       "        text-align: right;\n",
       "    }\n",
       "</style>\n",
       "<table border=\"1\" class=\"dataframe\">\n",
       "  <thead>\n",
       "    <tr style=\"text-align: right;\">\n",
       "      <th></th>\n",
       "      <th>bill_depth</th>\n",
       "      <th>bill_length</th>\n",
       "      <th>wing_length</th>\n",
       "      <th>location</th>\n",
       "      <th>mass</th>\n",
       "      <th>sex</th>\n",
       "      <th>ID</th>\n",
       "    </tr>\n",
       "  </thead>\n",
       "  <tbody>\n",
       "    <tr>\n",
       "      <th>0</th>\n",
       "      <td>14.300000</td>\n",
       "      <td>48.200000</td>\n",
       "      <td>210.000000</td>\n",
       "      <td>loc_2</td>\n",
       "      <td>4600.0</td>\n",
       "      <td>0.0</td>\n",
       "      <td>284</td>\n",
       "    </tr>\n",
       "    <tr>\n",
       "      <th>1</th>\n",
       "      <td>14.400000</td>\n",
       "      <td>48.400000</td>\n",
       "      <td>203.000000</td>\n",
       "      <td>loc_2</td>\n",
       "      <td>4625.0</td>\n",
       "      <td>0.0</td>\n",
       "      <td>101</td>\n",
       "    </tr>\n",
       "    <tr>\n",
       "      <th>2</th>\n",
       "      <td>18.400000</td>\n",
       "      <td>NaN</td>\n",
       "      <td>200.000000</td>\n",
       "      <td>loc_3</td>\n",
       "      <td>3400.0</td>\n",
       "      <td>0.0</td>\n",
       "      <td>400</td>\n",
       "    </tr>\n",
       "    <tr>\n",
       "      <th>3</th>\n",
       "      <td>14.982114</td>\n",
       "      <td>47.504878</td>\n",
       "      <td>NaN</td>\n",
       "      <td>NaN</td>\n",
       "      <td>4800.0</td>\n",
       "      <td>0.0</td>\n",
       "      <td>98</td>\n",
       "    </tr>\n",
       "    <tr>\n",
       "      <th>4</th>\n",
       "      <td>18.982114</td>\n",
       "      <td>38.259307</td>\n",
       "      <td>217.186992</td>\n",
       "      <td>loc_3</td>\n",
       "      <td>5200.0</td>\n",
       "      <td>0.0</td>\n",
       "      <td>103</td>\n",
       "    </tr>\n",
       "  </tbody>\n",
       "</table>\n",
       "</div>"
      ],
      "text/plain": [
       "   bill_depth  bill_length  wing_length location    mass  sex   ID\n",
       "0   14.300000    48.200000   210.000000    loc_2  4600.0  0.0  284\n",
       "1   14.400000    48.400000   203.000000    loc_2  4625.0  0.0  101\n",
       "2   18.400000          NaN   200.000000    loc_3  3400.0  0.0  400\n",
       "3   14.982114    47.504878          NaN      NaN  4800.0  0.0   98\n",
       "4   18.982114    38.259307   217.186992    loc_3  5200.0  0.0  103"
      ]
     },
     "execution_count": 20,
     "metadata": {},
     "output_type": "execute_result"
    }
   ],
   "source": [
    "df1=pd.read_csv(r'C:\\Users\\EDWIN\\OneDrive\\Documents\\GitHub\\Bird_Classification\\Bird Species Classification Dataset\\Dataset\\training_set\\training_set.csv')\n",
    "df1.head()"
   ]
  },
  {
   "cell_type": "code",
   "execution_count": 22,
   "id": "fda16d82",
   "metadata": {},
   "outputs": [
    {
     "data": {
      "text/html": [
       "<div>\n",
       "<style scoped>\n",
       "    .dataframe tbody tr th:only-of-type {\n",
       "        vertical-align: middle;\n",
       "    }\n",
       "\n",
       "    .dataframe tbody tr th {\n",
       "        vertical-align: top;\n",
       "    }\n",
       "\n",
       "    .dataframe thead th {\n",
       "        text-align: right;\n",
       "    }\n",
       "</style>\n",
       "<table border=\"1\" class=\"dataframe\">\n",
       "  <thead>\n",
       "    <tr style=\"text-align: right;\">\n",
       "      <th></th>\n",
       "      <th>ID</th>\n",
       "      <th>species</th>\n",
       "    </tr>\n",
       "  </thead>\n",
       "  <tbody>\n",
       "    <tr>\n",
       "      <th>0</th>\n",
       "      <td>284</td>\n",
       "      <td>C</td>\n",
       "    </tr>\n",
       "    <tr>\n",
       "      <th>1</th>\n",
       "      <td>101</td>\n",
       "      <td>C</td>\n",
       "    </tr>\n",
       "    <tr>\n",
       "      <th>2</th>\n",
       "      <td>400</td>\n",
       "      <td>B</td>\n",
       "    </tr>\n",
       "    <tr>\n",
       "      <th>3</th>\n",
       "      <td>98</td>\n",
       "      <td>C</td>\n",
       "    </tr>\n",
       "    <tr>\n",
       "      <th>4</th>\n",
       "      <td>103</td>\n",
       "      <td>C</td>\n",
       "    </tr>\n",
       "  </tbody>\n",
       "</table>\n",
       "</div>"
      ],
      "text/plain": [
       "    ID species\n",
       "0  284       C\n",
       "1  101       C\n",
       "2  400       B\n",
       "3   98       C\n",
       "4  103       C"
      ]
     },
     "execution_count": 22,
     "metadata": {},
     "output_type": "execute_result"
    }
   ],
   "source": [
    "df2=pd.read_csv(r'C:\\Users\\EDWIN\\OneDrive\\Documents\\GitHub\\Bird_Classification\\Bird Species Classification Dataset\\Dataset\\training_set\\training_target.csv')\n",
    "df2.head()"
   ]
  },
  {
   "cell_type": "code",
   "execution_count": 23,
   "id": "d3f852d6",
   "metadata": {},
   "outputs": [
    {
     "data": {
      "text/plain": [
       "ID         0\n",
       "species    0\n",
       "dtype: int64"
      ]
     },
     "execution_count": 23,
     "metadata": {},
     "output_type": "execute_result"
    }
   ],
   "source": [
    "df2.isnull().sum()"
   ]
  },
  {
   "cell_type": "code",
   "execution_count": 24,
   "id": "9e85055a",
   "metadata": {},
   "outputs": [
    {
     "data": {
      "text/html": [
       "<div>\n",
       "<style scoped>\n",
       "    .dataframe tbody tr th:only-of-type {\n",
       "        vertical-align: middle;\n",
       "    }\n",
       "\n",
       "    .dataframe tbody tr th {\n",
       "        vertical-align: top;\n",
       "    }\n",
       "\n",
       "    .dataframe thead th {\n",
       "        text-align: right;\n",
       "    }\n",
       "</style>\n",
       "<table border=\"1\" class=\"dataframe\">\n",
       "  <thead>\n",
       "    <tr style=\"text-align: right;\">\n",
       "      <th></th>\n",
       "      <th>bill_depth</th>\n",
       "      <th>bill_length</th>\n",
       "      <th>wing_length</th>\n",
       "      <th>location</th>\n",
       "      <th>mass</th>\n",
       "      <th>sex</th>\n",
       "      <th>ID</th>\n",
       "      <th>species</th>\n",
       "    </tr>\n",
       "  </thead>\n",
       "  <tbody>\n",
       "    <tr>\n",
       "      <th>0</th>\n",
       "      <td>14.300000</td>\n",
       "      <td>48.200000</td>\n",
       "      <td>210.000000</td>\n",
       "      <td>loc_2</td>\n",
       "      <td>4600.0</td>\n",
       "      <td>0.0</td>\n",
       "      <td>284</td>\n",
       "      <td>C</td>\n",
       "    </tr>\n",
       "    <tr>\n",
       "      <th>1</th>\n",
       "      <td>14.400000</td>\n",
       "      <td>48.400000</td>\n",
       "      <td>203.000000</td>\n",
       "      <td>loc_2</td>\n",
       "      <td>4625.0</td>\n",
       "      <td>0.0</td>\n",
       "      <td>101</td>\n",
       "      <td>C</td>\n",
       "    </tr>\n",
       "    <tr>\n",
       "      <th>2</th>\n",
       "      <td>18.400000</td>\n",
       "      <td>NaN</td>\n",
       "      <td>200.000000</td>\n",
       "      <td>loc_3</td>\n",
       "      <td>3400.0</td>\n",
       "      <td>0.0</td>\n",
       "      <td>400</td>\n",
       "      <td>B</td>\n",
       "    </tr>\n",
       "    <tr>\n",
       "      <th>3</th>\n",
       "      <td>14.982114</td>\n",
       "      <td>47.504878</td>\n",
       "      <td>NaN</td>\n",
       "      <td>NaN</td>\n",
       "      <td>4800.0</td>\n",
       "      <td>0.0</td>\n",
       "      <td>98</td>\n",
       "      <td>C</td>\n",
       "    </tr>\n",
       "    <tr>\n",
       "      <th>4</th>\n",
       "      <td>18.982114</td>\n",
       "      <td>38.259307</td>\n",
       "      <td>217.186992</td>\n",
       "      <td>loc_3</td>\n",
       "      <td>5200.0</td>\n",
       "      <td>0.0</td>\n",
       "      <td>103</td>\n",
       "      <td>C</td>\n",
       "    </tr>\n",
       "  </tbody>\n",
       "</table>\n",
       "</div>"
      ],
      "text/plain": [
       "   bill_depth  bill_length  wing_length location    mass  sex   ID species\n",
       "0   14.300000    48.200000   210.000000    loc_2  4600.0  0.0  284       C\n",
       "1   14.400000    48.400000   203.000000    loc_2  4625.0  0.0  101       C\n",
       "2   18.400000          NaN   200.000000    loc_3  3400.0  0.0  400       B\n",
       "3   14.982114    47.504878          NaN      NaN  4800.0  0.0   98       C\n",
       "4   18.982114    38.259307   217.186992    loc_3  5200.0  0.0  103       C"
      ]
     },
     "execution_count": 24,
     "metadata": {},
     "output_type": "execute_result"
    }
   ],
   "source": [
    "merged_df=pd.merge(df1,df2,on=\"ID\")\n",
    "merged_df.head()"
   ]
  },
  {
   "cell_type": "code",
   "execution_count": 25,
   "id": "210f70b3",
   "metadata": {},
   "outputs": [
    {
     "data": {
      "text/plain": [
       "bill_depth       1\n",
       "bill_length    140\n",
       "wing_length    137\n",
       "location        30\n",
       "mass             2\n",
       "sex             56\n",
       "ID               0\n",
       "species          0\n",
       "dtype: int64"
      ]
     },
     "execution_count": 25,
     "metadata": {},
     "output_type": "execute_result"
    }
   ],
   "source": [
    "merged_df.isnull().sum()"
   ]
  },
  {
   "cell_type": "code",
   "execution_count": 29,
   "id": "3ed5611d",
   "metadata": {},
   "outputs": [
    {
     "name": "stderr",
     "output_type": "stream",
     "text": [
      "C:\\Users\\EDWIN\\AppData\\Local\\Temp\\ipykernel_33956\\3777071040.py:1: FutureWarning: DataFrame.fillna with 'method' is deprecated and will raise in a future version. Use obj.ffill() or obj.bfill() instead.\n",
      "  df_filled=merged_df.fillna(method='ffill')\n"
     ]
    }
   ],
   "source": [
    "df_filled=merged_df.fillna(method='ffill')"
   ]
  },
  {
   "cell_type": "code",
   "execution_count": 30,
   "id": "5fd39427",
   "metadata": {},
   "outputs": [
    {
     "data": {
      "text/plain": [
       "bill_depth     0\n",
       "bill_length    0\n",
       "wing_length    0\n",
       "location       0\n",
       "mass           0\n",
       "sex            0\n",
       "ID             0\n",
       "species        0\n",
       "dtype: int64"
      ]
     },
     "execution_count": 30,
     "metadata": {},
     "output_type": "execute_result"
    }
   ],
   "source": [
    "df_filled.isnull().sum()"
   ]
  },
  {
   "cell_type": "code",
   "execution_count": 42,
   "id": "601b7b90",
   "metadata": {},
   "outputs": [],
   "source": [
    "from sklearn.preprocessing import OneHotEncoder , LabelEncoder\n",
    "\n",
    "encoder = OneHotEncoder(sparse_output=False, handle_unknown='ignore')\n",
    "df_filled['location'] = encoder.fit_transform(df_filled[['location']])\n"
   ]
  },
  {
   "cell_type": "code",
   "execution_count": 43,
   "id": "94f93c12",
   "metadata": {},
   "outputs": [],
   "source": [
    "label_encoder=LabelEncoder()\n",
    "df_filled['species']=label_encoder.fit_transform(df_filled['species'])"
   ]
  },
  {
   "cell_type": "code",
   "execution_count": 44,
   "id": "28fa0ca8",
   "metadata": {},
   "outputs": [
    {
     "data": {
      "text/html": [
       "<div>\n",
       "<style scoped>\n",
       "    .dataframe tbody tr th:only-of-type {\n",
       "        vertical-align: middle;\n",
       "    }\n",
       "\n",
       "    .dataframe tbody tr th {\n",
       "        vertical-align: top;\n",
       "    }\n",
       "\n",
       "    .dataframe thead th {\n",
       "        text-align: right;\n",
       "    }\n",
       "</style>\n",
       "<table border=\"1\" class=\"dataframe\">\n",
       "  <thead>\n",
       "    <tr style=\"text-align: right;\">\n",
       "      <th></th>\n",
       "      <th>bill_depth</th>\n",
       "      <th>bill_length</th>\n",
       "      <th>wing_length</th>\n",
       "      <th>location</th>\n",
       "      <th>mass</th>\n",
       "      <th>sex</th>\n",
       "      <th>ID</th>\n",
       "      <th>species</th>\n",
       "    </tr>\n",
       "  </thead>\n",
       "  <tbody>\n",
       "    <tr>\n",
       "      <th>0</th>\n",
       "      <td>14.300000</td>\n",
       "      <td>48.200000</td>\n",
       "      <td>210.000000</td>\n",
       "      <td>0.0</td>\n",
       "      <td>4600.0</td>\n",
       "      <td>0.0</td>\n",
       "      <td>284</td>\n",
       "      <td>2</td>\n",
       "    </tr>\n",
       "    <tr>\n",
       "      <th>1</th>\n",
       "      <td>14.400000</td>\n",
       "      <td>48.400000</td>\n",
       "      <td>203.000000</td>\n",
       "      <td>0.0</td>\n",
       "      <td>4625.0</td>\n",
       "      <td>0.0</td>\n",
       "      <td>101</td>\n",
       "      <td>2</td>\n",
       "    </tr>\n",
       "    <tr>\n",
       "      <th>2</th>\n",
       "      <td>18.400000</td>\n",
       "      <td>48.400000</td>\n",
       "      <td>200.000000</td>\n",
       "      <td>0.0</td>\n",
       "      <td>3400.0</td>\n",
       "      <td>0.0</td>\n",
       "      <td>400</td>\n",
       "      <td>1</td>\n",
       "    </tr>\n",
       "    <tr>\n",
       "      <th>3</th>\n",
       "      <td>14.982114</td>\n",
       "      <td>47.504878</td>\n",
       "      <td>200.000000</td>\n",
       "      <td>0.0</td>\n",
       "      <td>4800.0</td>\n",
       "      <td>0.0</td>\n",
       "      <td>98</td>\n",
       "      <td>2</td>\n",
       "    </tr>\n",
       "    <tr>\n",
       "      <th>4</th>\n",
       "      <td>18.982114</td>\n",
       "      <td>38.259307</td>\n",
       "      <td>217.186992</td>\n",
       "      <td>0.0</td>\n",
       "      <td>5200.0</td>\n",
       "      <td>0.0</td>\n",
       "      <td>103</td>\n",
       "      <td>2</td>\n",
       "    </tr>\n",
       "  </tbody>\n",
       "</table>\n",
       "</div>"
      ],
      "text/plain": [
       "   bill_depth  bill_length  wing_length  location    mass  sex   ID  species\n",
       "0   14.300000    48.200000   210.000000       0.0  4600.0  0.0  284        2\n",
       "1   14.400000    48.400000   203.000000       0.0  4625.0  0.0  101        2\n",
       "2   18.400000    48.400000   200.000000       0.0  3400.0  0.0  400        1\n",
       "3   14.982114    47.504878   200.000000       0.0  4800.0  0.0   98        2\n",
       "4   18.982114    38.259307   217.186992       0.0  5200.0  0.0  103        2"
      ]
     },
     "execution_count": 44,
     "metadata": {},
     "output_type": "execute_result"
    }
   ],
   "source": [
    "df_filled.head()"
   ]
  },
  {
   "cell_type": "code",
   "execution_count": 50,
   "id": "2fa84a33",
   "metadata": {},
   "outputs": [
    {
     "data": {
      "text/html": [
       "<div>\n",
       "<style scoped>\n",
       "    .dataframe tbody tr th:only-of-type {\n",
       "        vertical-align: middle;\n",
       "    }\n",
       "\n",
       "    .dataframe tbody tr th {\n",
       "        vertical-align: top;\n",
       "    }\n",
       "\n",
       "    .dataframe thead th {\n",
       "        text-align: right;\n",
       "    }\n",
       "</style>\n",
       "<table border=\"1\" class=\"dataframe\">\n",
       "  <thead>\n",
       "    <tr style=\"text-align: right;\">\n",
       "      <th></th>\n",
       "      <th>bill_depth</th>\n",
       "      <th>bill_length</th>\n",
       "      <th>wing_length</th>\n",
       "      <th>location</th>\n",
       "      <th>mass</th>\n",
       "      <th>sex</th>\n",
       "      <th>species</th>\n",
       "    </tr>\n",
       "  </thead>\n",
       "  <tbody>\n",
       "    <tr>\n",
       "      <th>0</th>\n",
       "      <td>14.300000</td>\n",
       "      <td>48.200000</td>\n",
       "      <td>210.000000</td>\n",
       "      <td>0.0</td>\n",
       "      <td>4600.0</td>\n",
       "      <td>0.0</td>\n",
       "      <td>2</td>\n",
       "    </tr>\n",
       "    <tr>\n",
       "      <th>1</th>\n",
       "      <td>14.400000</td>\n",
       "      <td>48.400000</td>\n",
       "      <td>203.000000</td>\n",
       "      <td>0.0</td>\n",
       "      <td>4625.0</td>\n",
       "      <td>0.0</td>\n",
       "      <td>2</td>\n",
       "    </tr>\n",
       "    <tr>\n",
       "      <th>2</th>\n",
       "      <td>18.400000</td>\n",
       "      <td>48.400000</td>\n",
       "      <td>200.000000</td>\n",
       "      <td>0.0</td>\n",
       "      <td>3400.0</td>\n",
       "      <td>0.0</td>\n",
       "      <td>1</td>\n",
       "    </tr>\n",
       "    <tr>\n",
       "      <th>3</th>\n",
       "      <td>14.982114</td>\n",
       "      <td>47.504878</td>\n",
       "      <td>200.000000</td>\n",
       "      <td>0.0</td>\n",
       "      <td>4800.0</td>\n",
       "      <td>0.0</td>\n",
       "      <td>2</td>\n",
       "    </tr>\n",
       "    <tr>\n",
       "      <th>4</th>\n",
       "      <td>18.982114</td>\n",
       "      <td>38.259307</td>\n",
       "      <td>217.186992</td>\n",
       "      <td>0.0</td>\n",
       "      <td>5200.0</td>\n",
       "      <td>0.0</td>\n",
       "      <td>2</td>\n",
       "    </tr>\n",
       "  </tbody>\n",
       "</table>\n",
       "</div>"
      ],
      "text/plain": [
       "   bill_depth  bill_length  wing_length  location    mass  sex  species\n",
       "0   14.300000    48.200000   210.000000       0.0  4600.0  0.0        2\n",
       "1   14.400000    48.400000   203.000000       0.0  4625.0  0.0        2\n",
       "2   18.400000    48.400000   200.000000       0.0  3400.0  0.0        1\n",
       "3   14.982114    47.504878   200.000000       0.0  4800.0  0.0        2\n",
       "4   18.982114    38.259307   217.186992       0.0  5200.0  0.0        2"
      ]
     },
     "execution_count": 50,
     "metadata": {},
     "output_type": "execute_result"
    }
   ],
   "source": [
    "df_filled.head()"
   ]
  },
  {
   "cell_type": "code",
   "execution_count": 51,
   "id": "aeb0585d",
   "metadata": {},
   "outputs": [],
   "source": [
    "df=df_filled"
   ]
  },
  {
   "cell_type": "code",
   "execution_count": 52,
   "id": "fb13afb6",
   "metadata": {},
   "outputs": [
    {
     "data": {
      "image/png": "[encoded data removed]",
      "text/plain": [
       "<Figure size 640x480 with 2 Axes>"
      ]
     },
     "metadata": {},
     "output_type": "display_data"
    }
   ],
   "source": [
    "import seaborn as sns\n",
    "import matplotlib.pyplot as plt\n",
    "\n",
    "corr = df.drop('species', axis=1).corr()\n",
    "sns.heatmap(corr, annot=True, cmap='coolwarm')\n",
    "plt.show()\n"
   ]
  },
  {
   "cell_type": "code",
   "execution_count": 53,
   "id": "b0593f17",
   "metadata": {},
   "outputs": [],
   "source": [
    "X =df.drop('species',axis=1)\n",
    "y=df['species']"
   ]
  },
  {
   "cell_type": "code",
   "execution_count": 54,
   "id": "64afc32c",
   "metadata": {},
   "outputs": [
    {
     "data": {
      "text/plain": [
       "(     bill_depth  bill_length  wing_length  location    mass  sex\n",
       " 0     14.300000    48.200000   210.000000       0.0  4600.0  0.0\n",
       " 1     14.400000    48.400000   203.000000       0.0  4625.0  0.0\n",
       " 2     18.400000    48.400000   200.000000       0.0  3400.0  0.0\n",
       " 3     14.982114    47.504878   200.000000       0.0  4800.0  0.0\n",
       " 4     18.982114    38.259307   217.186992       0.0  5200.0  0.0\n",
       " ..          ...          ...          ...       ...     ...  ...\n",
       " 430   17.000000    48.833824   196.000000       0.0  3500.0  1.0\n",
       " 431   17.100000    48.833824   193.000000       0.0  3400.0  0.0\n",
       " 432   19.400000    48.833824   193.000000       1.0  3900.0  1.0\n",
       " 433   16.600000    55.512336   187.000000       0.0  2900.0  1.0\n",
       " 434   18.900000    55.512336   187.000000       0.0  4300.0  1.0\n",
       " \n",
       " [435 rows x 6 columns],\n",
       " 0      2\n",
       " 1      2\n",
       " 2      1\n",
       " 3      2\n",
       " 4      2\n",
       "       ..\n",
       " 430    1\n",
       " 431    0\n",
       " 432    0\n",
       " 433    1\n",
       " 434    0\n",
       " Name: species, Length: 435, dtype: int32)"
      ]
     },
     "execution_count": 54,
     "metadata": {},
     "output_type": "execute_result"
    }
   ],
   "source": [
    "X,y"
   ]
  },
  {
   "cell_type": "code",
   "execution_count": 70,
   "id": "bf873f94",
   "metadata": {},
   "outputs": [],
   "source": [
    "from sklearn.ensemble import RandomForestClassifier\n",
    "from sklearn.metrics import accuracy_score, confusion_matrix, precision_score, recall_score, classification_report\n",
    "from sklearn.model_selection import RandomizedSearchCV, train_test_split\n",
    "\n",
    "\n",
    "X_train,X_test,y_train,y_test=train_test_split(X,y,test_size=0.3)\n",
    "\n",
    "rf=RandomForestClassifier()\n",
    "model=rf.fit(X_train,y_train)"
   ]
  },
  {
   "cell_type": "code",
   "execution_count": 71,
   "id": "b9568c54",
   "metadata": {},
   "outputs": [],
   "source": [
    "y_pred=model.predict(X_test)"
   ]
  },
  {
   "cell_type": "code",
   "execution_count": 75,
   "id": "e4b2d51a",
   "metadata": {},
   "outputs": [
    {
     "name": "stdout",
     "output_type": "stream",
     "text": [
      "Accuracy=91.6030534351145\n"
     ]
    }
   ],
   "source": [
    "accuracy=accuracy_score(y_test,y_pred)\n",
    "print(f\"Accuracy={accuracy*100}\")"
   ]
  },
  {
   "cell_type": "code",
   "execution_count": 73,
   "id": "2f57abdc",
   "metadata": {},
   "outputs": [
    {
     "name": "stdout",
     "output_type": "stream",
     "text": [
      "              precision    recall  f1-score   support\n",
      "\n",
      "           0       0.86      0.94      0.90        53\n",
      "           1       0.90      0.76      0.83        34\n",
      "           2       1.00      1.00      1.00        44\n",
      "\n",
      "    accuracy                           0.92       131\n",
      "   macro avg       0.92      0.90      0.91       131\n",
      "weighted avg       0.92      0.92      0.91       131\n",
      "\n"
     ]
    }
   ],
   "source": [
    "print(classification_report(y_test,y_pred))"
   ]
  }
 ],
 "metadata": {
  "kernelspec": {
   "display_name": "Python 3",
   "language": "python",
   "name": "python3"
  },
  "language_info": {
   "codemirror_mode": {
    "name": "ipython",
    "version": 3
   },
   "file_extension": ".py",
   "mimetype": "text/x-python",
   "name": "python",
   "nbconvert_exporter": "python",
   "pygments_lexer": "ipython3",
   "version": "3.12.3"
  }
 },
 "nbformat": 4,
 "nbformat_minor": 5
}
